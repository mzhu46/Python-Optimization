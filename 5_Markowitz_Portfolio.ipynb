{
 "cells": [
  {
   "cell_type": "markdown",
   "metadata": {},
   "source": [
    "### Efficient Portfolios"
   ]
  },
  {
   "cell_type": "markdown",
   "metadata": {},
   "source": [
    "The portfolio optimisation model, originally proposed by Markowitz (1952), selects proportions of assets to be included in a portfolio. \n",
    "- To have an efficient portfolio: \n",
    "  - the expected return should be maximised contingent on any given number of risks; \n",
    "  - or the risk should be minimised for a given expected return.\n",
    "- Thus, investors are confronted with a trade-off between expected return and risk.\n",
    "- The expected return-risk relationship of efficient portfolios is represented by an efficient frontier curve."
   ]
  },
  {
   "cell_type": "markdown",
   "metadata": {},
   "source": [
    "$$\\max c^T x,$$\n",
    "\n",
    "$$\\mathrm{s.t.} \\quad x^T H x = \\bar \\sigma ^2$$\n",
    "\n",
    "$$\\sum_{i=1}^{n} x_i = 1$$\n",
    "\n",
    "$$x_i \\ge 0$$"
   ]
  },
  {
   "cell_type": "markdown",
   "metadata": {},
   "source": [
    "where \n",
    "- n is the number of assets, \n",
    "- x, n × 1, is the vector of the shares invested in each asset i, \n",
    "- c, n × 1, is the vector of the average benefit per asset, \n",
    "- H, n × n, is the covariance matrix, and \n",
    "- $σ^2$ is the expected risk goal.\n",
    "Problem is know as a **quadratic programming problem**"
   ]
  },
  {
   "cell_type": "markdown",
   "metadata": {},
   "source": [
    "Alternatively, minimise the risk subject to an expected return, c,\n",
    "\n",
    "$$\\min x^T H x,$$\n",
    "\n",
    "$$\\mathrm{s.t.} \\quad c^T x = \\bar c $$\n",
    "\n",
    "$$\\sum_{i=1}^{n} x_i = 1$$\n",
    "\n",
    "$$x_i \\ge 0$$\n",
    "\n",
    "\n"
   ]
  },
  {
   "cell_type": "markdown",
   "metadata": {},
   "source": [
    "The global minimum variance portfolio is the one satisfying minimization problem.\n",
    "\n",
    "The **efficient frontier** is the set of pairs (risk, return) for which the returns are greater than the return provided by the minimum variance portfolio."
   ]
  },
  {
   "cell_type": "markdown",
   "metadata": {},
   "source": [
    "The aim is to find the values of variables that optimise an objective, conditional or not to constraints.\n",
    "Numerical methods overcome limitations of size, but there is no universal algorithm to solve optimisation problems."
   ]
  },
  {
   "cell_type": "code",
   "execution_count": null,
   "metadata": {
    "collapsed": true,
    "jupyter": {
     "outputs_hidden": true
    }
   },
   "outputs": [],
   "source": []
  },
  {
   "cell_type": "markdown",
   "metadata": {},
   "source": [
    "- **Optimisation problems** can be classified in various ways, according to, for example: \n",
    "\n",
    " - (i) functions involved; \n",
    " - (ii) type of variables used; \n",
    " - (iii) type of restrictions considered; \n",
    " - (iv) type of solution to be obtained; and \n",
    " - (v) differentiability of the functions involved.\n",
    "\n",
    "\n",
    "- Among the countless optimisation problems, linear, quadratic and nonlinear programming are the most usual. \n",
    "\n",
    "- Many algorithms for nonlinear programming problems only seek local solutions; in particular, for convex linear programming, local solutions are global."
   ]
  },
  {
   "cell_type": "markdown",
   "metadata": {},
   "source": [
    "### General form"
   ]
  },
  {
   "cell_type": "markdown",
   "metadata": {},
   "source": [
    "objective function:\n",
    "\n",
    "$$\\min f(x)$$\n",
    "\n",
    "linear inequality constraint:\n",
    "\n",
    "$$\\mathrm{s.t.} \\quad Ax \\le a$$\n",
    "\n",
    "linear equality constraint:\n",
    "\n",
    "$$Bx = b$$\n",
    "\n",
    "lower and upper bound:\n",
    "\n",
    "$$LB \\le x \\le UB$$\n",
    "\n",
    "non-linear equality constraint:\n",
    "\n",
    "$$c_{eq}(x)=0$$\n",
    "\n",
    "non-linear inequality constraint:\n",
    "\n",
    "$$c_{ineq}(x)<0$$\n",
    "\n",
    "initial guess:\n",
    "$$x_0 = \\bar x_0$$"
   ]
  },
  {
   "cell_type": "code",
   "execution_count": null,
   "metadata": {
    "collapsed": true,
    "jupyter": {
     "outputs_hidden": true
    }
   },
   "outputs": [],
   "source": []
  },
  {
   "cell_type": "markdown",
   "metadata": {},
   "source": [
    "### An Example\n",
    "\n",
    "Mathematical optimization problems may include equality constraints (e.g. =), inequality constraints (e.g. <, <=, >, >=), objective functions, algebraic equations, differential equations, continuous variables, discrete or integer variables, etc. One example of an optimization problem from a benchmark test set is the Hock Schittkowski problem #71.\n",
    "\n",
    "$$\\min x_1 x_4 \\left(x_1 + x_2 + x_3\\right) + x_3$$\n",
    "\n",
    "$$\\mathrm{s.t.} \\quad x_1 x_2 x_3 x_4 \\ge 25$$\n",
    "\n",
    "$$x_1^2 + x_2^2 + x_3^2 + x_4^2 = 40$$\n",
    "\n",
    "$$1\\le x_1, x_2, x_3, x_4 \\le 5$$\n",
    "\n",
    "\n",
    "$$x_0 = (1,5,5,1)$$"
   ]
  },
  {
   "cell_type": "code",
   "execution_count": 19,
   "metadata": {
    "collapsed": false,
    "jupyter": {
     "outputs_hidden": false
    },
    "scrolled": true
   },
   "outputs": [
    {
     "name": "stdout",
     "output_type": "stream",
     "text": [
      "Initial SSE Objective: 16.0\n",
      "Final SSE Objective: 17.0140172456\n",
      "Solution\n",
      "x1 = 1.0\n",
      "x2 = 4.74299606564\n",
      "x3 = 3.82115466425\n",
      "x4 = 1.37940763941\n",
      "Constraints\n",
      "C1 =  24.9999999451\n",
      "C2 =  40.0000000824\n"
     ]
    }
   ],
   "source": [
    "import numpy as np\n",
    "from scipy.optimize import minimize\n",
    "\n",
    "def objective(x):\n",
    "    return x[0]*x[3]*(x[0]+x[1]+x[2])+x[2]\n",
    "\n",
    "def constraint1(x):\n",
    "    return x[0]*x[1]*x[2]*x[3]-25.0\n",
    "\n",
    "def constraint2(x):\n",
    "    sum_eq = 0.0\n",
    "    for i in range(4):\n",
    "        sum_eq = sum_eq + x[i]**2\n",
    "        \n",
    "    sum_eq = sum_eq-40.0    \n",
    "    return sum_eq\n",
    "\n",
    "# initial guesses\n",
    "n = 4\n",
    "x0 = np.zeros(n)\n",
    "x0[0] = 1.0\n",
    "x0[1] = 5.0\n",
    "x0[2] = 5.0\n",
    "x0[3] = 1.0\n",
    "\n",
    "# show initial objective\n",
    "print('Initial SSE Objective: ' + str(objective(x0)))\n",
    "\n",
    "# optimize\n",
    "b = (1.0,5.0)\n",
    "bnds = (b, b, b, b)\n",
    "con1 = {'type': 'ineq', 'fun': constraint1} \n",
    "con2 = {'type': 'eq', 'fun': constraint2}\n",
    "cons = ([con1,con2])\n",
    "solution = minimize(objective,x0,method='SLSQP',\\\n",
    "                    bounds=bnds,constraints=cons)\n",
    "x = solution.x\n",
    "\n",
    "# show final objective\n",
    "print('Final SSE Objective: ' + str(objective(x)))\n",
    "\n",
    "# show solution\n",
    "print('Solution')\n",
    "print('x1 = ' + str(x[0]))\n",
    "print('x2 = ' + str(x[1]))\n",
    "print('x3 = ' + str(x[2]))\n",
    "print('x4 = ' + str(x[3]))\n",
    "\n",
    "# check constraints\n",
    "print('Constraints')\n",
    "print('C1 = ', x[0]*x[1]*x[2]*x[3])\n",
    "print('C2 = ', x[0]*x[0]+x[1]*x[1]+x[2]*x[2]+x[3]*x[3])"
   ]
  },
  {
   "cell_type": "code",
   "execution_count": null,
   "metadata": {
    "collapsed": true,
    "jupyter": {
     "outputs_hidden": true
    }
   },
   "outputs": [],
   "source": []
  },
  {
   "cell_type": "markdown",
   "metadata": {},
   "source": [
    "### Portfolio with minimum variance\n",
    "\n",
    "Consider the following data, for the returns vector and covariance matrix, respectively:"
   ]
  },
  {
   "cell_type": "code",
   "execution_count": 20,
   "metadata": {
    "collapsed": false,
    "jupyter": {
     "outputs_hidden": false
    }
   },
   "outputs": [],
   "source": [
    "# first consider a two-asset case, with a risk-free asset\n",
    "# returns vector\n",
    "c = np.array([0.100, 0.200])"
   ]
  },
  {
   "cell_type": "code",
   "execution_count": 21,
   "metadata": {
    "collapsed": true,
    "jupyter": {
     "outputs_hidden": true
    }
   },
   "outputs": [],
   "source": [
    "# covariance matrix\n",
    "#No risk-free asset is available\n",
    "#H = np.matrix([[0.005, -0.010],\n",
    "#                [-0.010, 0.040]])\n",
    "\n",
    "#A risk-free asset is available\n",
    "H = np.matrix([[10e-10, 0.000],\n",
    "                [0.000, 0.040]])"
   ]
  },
  {
   "cell_type": "code",
   "execution_count": 22,
   "metadata": {
    "collapsed": true,
    "jupyter": {
     "outputs_hidden": true
    }
   },
   "outputs": [],
   "source": [
    "def objective(x):\n",
    "    return x@H@x  #Note: This is a global minimum variance specification\n",
    "    #return 0.5*x@H@x - x@c #Note: This is a mean-variance specification"
   ]
  },
  {
   "cell_type": "code",
   "execution_count": 23,
   "metadata": {
    "collapsed": true,
    "jupyter": {
     "outputs_hidden": true
    }
   },
   "outputs": [],
   "source": [
    "# initial guesses\n",
    "n = 2\n",
    "x0 = np.zeros(n)\n",
    "x0[0] = 1.0/n\n",
    "x0[1] = 1.0/n"
   ]
  },
  {
   "cell_type": "code",
   "execution_count": 24,
   "metadata": {
    "collapsed": false,
    "jupyter": {
     "outputs_hidden": false
    }
   },
   "outputs": [
    {
     "name": "stdout",
     "output_type": "stream",
     "text": [
      "Initial SSE Objective: [[ 0.01]]\n"
     ]
    }
   ],
   "source": [
    "# show initial objective\n",
    "print('Initial SSE Objective: ' + str(objective(x0)))"
   ]
  },
  {
   "cell_type": "code",
   "execution_count": 25,
   "metadata": {
    "collapsed": true,
    "jupyter": {
     "outputs_hidden": true
    }
   },
   "outputs": [],
   "source": [
    "def constraint(x):\n",
    "    return 1-np.sum(x)"
   ]
  },
  {
   "cell_type": "code",
   "execution_count": 26,
   "metadata": {
    "collapsed": true,
    "jupyter": {
     "outputs_hidden": true
    }
   },
   "outputs": [],
   "source": [
    "# set \"minimize\" optimizer options and call it\n",
    "b = (0,np.inf)\n",
    "bnds = (b, b)\n",
    "con = {'type': 'eq', 'fun': constraint} \n",
    "\n",
    "solution = minimize(objective,x0,method='SLSQP',\\\n",
    "                    bounds=bnds,constraints=con)\n",
    "x = solution.x"
   ]
  },
  {
   "cell_type": "code",
   "execution_count": 27,
   "metadata": {
    "collapsed": false,
    "jupyter": {
     "outputs_hidden": false
    }
   },
   "outputs": [
    {
     "name": "stdout",
     "output_type": "stream",
     "text": [
      "Final SSE Objective: [[  9.99999978e-10]]\n",
      "Final expected return: 0.100000001598\n",
      "Final risk: [[  9.99999978e-10]]\n",
      "Optimal Portfolio\n",
      "x1 = 0.999999984022\n",
      "x2 = 1.59780024767e-08\n"
     ]
    }
   ],
   "source": [
    "# show final objective\n",
    "print('Final SSE Objective: ' + str(objective(x)))\n",
    "\n",
    "# show final expected return\n",
    "print('Final expected return: ' + str(x@c))\n",
    "\n",
    "# show final risk\n",
    "print('Final risk: ' + str(x@H@x))\n",
    "\n",
    "# show solution\n",
    "print('Optimal Portfolio')\n",
    "print('x1 = ' + str(x[0]))\n",
    "print('x2 = ' + str(x[1]))"
   ]
  },
  {
   "cell_type": "code",
   "execution_count": null,
   "metadata": {
    "collapsed": true,
    "jupyter": {
     "outputs_hidden": true
    }
   },
   "outputs": [],
   "source": []
  },
  {
   "cell_type": "markdown",
   "metadata": {},
   "source": [
    "### Portfolio with minimum variance\n",
    "\n",
    "Consider the following data, for the returns vector and covariance matrix, respectively:\n"
   ]
  },
  {
   "cell_type": "code",
   "execution_count": 28,
   "metadata": {
    "collapsed": false,
    "jupyter": {
     "outputs_hidden": false
    }
   },
   "outputs": [],
   "source": [
    "# Now consider a three-asset case, without a risk-free asset\n",
    "# returns vector\n",
    "c = np.array([0.100, 0.200, 0.150])"
   ]
  },
  {
   "cell_type": "code",
   "execution_count": 29,
   "metadata": {
    "collapsed": true,
    "jupyter": {
     "outputs_hidden": true
    }
   },
   "outputs": [],
   "source": [
    "# covariance matrix\n",
    "H = np.matrix([[0.005, -0.010, 0.004],\n",
    "                [-0.010, 0.040, -0.002],\n",
    "               [0.004, -0.002, 0.023]])"
   ]
  },
  {
   "cell_type": "code",
   "execution_count": 30,
   "metadata": {
    "collapsed": true,
    "jupyter": {
     "outputs_hidden": true
    }
   },
   "outputs": [],
   "source": [
    "def objective(x):\n",
    "    return x@H@x\n",
    "    #return 0.5*x@H@x + x@c #Be careful with the objective function"
   ]
  },
  {
   "cell_type": "code",
   "execution_count": 31,
   "metadata": {
    "collapsed": true,
    "jupyter": {
     "outputs_hidden": true
    }
   },
   "outputs": [],
   "source": [
    "# initial guesses\n",
    "n = 3\n",
    "x0 = np.zeros(n)\n",
    "x0[0] = 1.0/n\n",
    "x0[1] = 1.0/n\n",
    "x0[2] = 1.0/n"
   ]
  },
  {
   "cell_type": "code",
   "execution_count": 32,
   "metadata": {
    "collapsed": false,
    "jupyter": {
     "outputs_hidden": false
    }
   },
   "outputs": [
    {
     "name": "stdout",
     "output_type": "stream",
     "text": [
      "Initial SSE Objective: [[ 0.00577778]]\n"
     ]
    }
   ],
   "source": [
    "# show initial objective\n",
    "print('Initial SSE Objective: ' + str(objective(x0)))"
   ]
  },
  {
   "cell_type": "code",
   "execution_count": 33,
   "metadata": {
    "collapsed": true,
    "jupyter": {
     "outputs_hidden": true
    }
   },
   "outputs": [],
   "source": [
    "def constraint(x):\n",
    "    return 1-np.sum(x)"
   ]
  },
  {
   "cell_type": "code",
   "execution_count": 34,
   "metadata": {
    "collapsed": true,
    "jupyter": {
     "outputs_hidden": true
    }
   },
   "outputs": [],
   "source": [
    "# set \"minimize\" optimizer options and call it\n",
    "b = (0,np.inf)\n",
    "bnds = (b, b, b)\n",
    "con = {'type': 'eq', 'fun': constraint} \n",
    "\n",
    "solution = minimize(objective,x0,method='SLSQP',\\\n",
    "                    bounds=bnds,constraints=con)\n",
    "x = solution.x"
   ]
  },
  {
   "cell_type": "code",
   "execution_count": 40,
   "metadata": {
    "collapsed": false,
    "jupyter": {
     "outputs_hidden": false
    }
   },
   "outputs": [
    {
     "name": "stdout",
     "output_type": "stream",
     "text": [
      "Final SSE Objective: [[ 0.00153846]]\n",
      "Final expected return: 0.123076922686\n",
      "Final risk:  0.03922322702763682\n",
      "Optimal Portfolio\n",
      "x1 = 0.769230773145\n",
      "x2 = 0.230769226855\n",
      "x3 = 0.0\n"
     ]
    }
   ],
   "source": [
    "# risk is represented by the s.d., hence we'll need to compute a square-root\n",
    "import math\n",
    "\n",
    "# show final objective\n",
    "print('Final SSE Objective: ' + str(objective(x)))\n",
    "\n",
    "# show final expected return\n",
    "print('Final expected return: ' + str(x@c))\n",
    "\n",
    "# show final risk\n",
    "print('Final risk: ', math.sqrt(x@H@x) )\n",
    "\n",
    "# show solution\n",
    "print('Optimal Portfolio')\n",
    "print('x1 = ' + str(x[0]))\n",
    "print('x2 = ' + str(x[1]))\n",
    "print('x3 = ' + str(x[2]))"
   ]
  },
  {
   "cell_type": "code",
   "execution_count": null,
   "metadata": {
    "collapsed": true,
    "jupyter": {
     "outputs_hidden": true
    }
   },
   "outputs": [],
   "source": []
  },
  {
   "cell_type": "markdown",
   "metadata": {},
   "source": [
    "### Portfolio with the same expected return as the asset with the highest return\n",
    "\n",
    "In order to find the efficient frontier, we need to find the upper bound to the expected return. We then identify the portfolio that minimizes the risk, subject to the constraint that it delivers the same return as the asset with the highest return.\n"
   ]
  },
  {
   "cell_type": "code",
   "execution_count": 62,
   "metadata": {
    "collapsed": false,
    "jupyter": {
     "outputs_hidden": false
    }
   },
   "outputs": [],
   "source": [
    "# initial guesses\n",
    "n = 3\n",
    "x0 = np.zeros(n)\n",
    "x0[0] = 1.0/n\n",
    "x0[1] = 1.0/n\n",
    "x0[2] = 1.0/n\n",
    "\n",
    "# compute the max expectd return\n",
    "maxret = max(c)"
   ]
  },
  {
   "cell_type": "code",
   "execution_count": 63,
   "metadata": {
    "collapsed": false,
    "jupyter": {
     "outputs_hidden": false
    }
   },
   "outputs": [
    {
     "name": "stdout",
     "output_type": "stream",
     "text": [
      "Initial SSE Objective: [[ 0.00577778]]\n"
     ]
    }
   ],
   "source": [
    "# show initial objective\n",
    "print('Initial SSE Objective: ' + str(objective(x0)))"
   ]
  },
  {
   "cell_type": "code",
   "execution_count": 64,
   "metadata": {
    "collapsed": true,
    "jupyter": {
     "outputs_hidden": true
    }
   },
   "outputs": [],
   "source": [
    "def constraintsum(x):\n",
    "    return 1-np.sum(x)"
   ]
  },
  {
   "cell_type": "code",
   "execution_count": 65,
   "metadata": {
    "collapsed": true,
    "jupyter": {
     "outputs_hidden": true
    }
   },
   "outputs": [],
   "source": [
    "def constraintmax(x):\n",
    "    return x@c-maxret"
   ]
  },
  {
   "cell_type": "code",
   "execution_count": 66,
   "metadata": {
    "collapsed": false,
    "jupyter": {
     "outputs_hidden": false
    }
   },
   "outputs": [],
   "source": [
    "# set \"minimize\" optimizer options and call it\n",
    "b = (0,np.inf)\n",
    "bnds = (b, b, b)\n",
    "conmax1 = {'type': 'eq', 'fun': constraintsum} \n",
    "conmax2 = {'type': 'eq', 'fun': constraintmax}\n",
    "conmax = ([conmax1,conmax2])\n",
    "\n",
    "solution = minimize(objective,x0,method='SLSQP',\\\n",
    "                    bounds=bnds,constraints=conmax)\n",
    "x = solution.x"
   ]
  },
  {
   "cell_type": "code",
   "execution_count": 67,
   "metadata": {
    "collapsed": false,
    "jupyter": {
     "outputs_hidden": false
    }
   },
   "outputs": [
    {
     "name": "stdout",
     "output_type": "stream",
     "text": [
      "Final SSE Objective: [[ 0.04]]\n",
      "Final expected return: 0.2\n",
      "Final risk:  0.19999999999968654\n",
      "Optimal Portfolio\n",
      "x1 = 2.15395283448e-18\n",
      "x2 = 0.999999999999\n",
      "x3 = 1.4928119911e-12\n"
     ]
    }
   ],
   "source": [
    "# risk is represented by the s.d., hence we'll need to compute a square-root\n",
    "import math\n",
    "\n",
    "# show final objective\n",
    "print('Final SSE Objective: ' + str(objective(x)))\n",
    "\n",
    "# show final expected return\n",
    "print('Final expected return: ' + str(x@c))\n",
    "\n",
    "# show final risk\n",
    "print('Final risk: ', math.sqrt(x@H@x) )\n",
    "\n",
    "# show solution\n",
    "print('Optimal Portfolio')\n",
    "print('x1 = ' + str(x[0]))\n",
    "print('x2 = ' + str(x[1]))\n",
    "print('x3 = ' + str(x[2]))"
   ]
  },
  {
   "cell_type": "code",
   "execution_count": null,
   "metadata": {
    "collapsed": true,
    "jupyter": {
     "outputs_hidden": true
    }
   },
   "outputs": [],
   "source": []
  },
  {
   "cell_type": "markdown",
   "metadata": {},
   "source": [
    "### Computation of the efficient frontier\n",
    "\n",
    "In order to compute the efficient frontier, we use the information we obtained on both the portfolio with the minimum global variance and the one with the highest return.\n",
    "We will have to solve a sequence of optimization problems. Every problem is similar to the ones we have already considered, but we need to consider a different constraint. The portfolio has to deliver a rate of return equal to a predefined value. Obviously, this value has to be between the rate of return of the portfolio with the minimum global variance and the one with the highest return."
   ]
  },
  {
   "cell_type": "code",
   "execution_count": null,
   "metadata": {
    "collapsed": true,
    "jupyter": {
     "outputs_hidden": true
    }
   },
   "outputs": [],
   "source": []
  },
  {
   "cell_type": "code",
   "execution_count": null,
   "metadata": {
    "collapsed": true,
    "jupyter": {
     "outputs_hidden": true
    }
   },
   "outputs": [],
   "source": []
  },
  {
   "cell_type": "markdown",
   "metadata": {},
   "source": [
    "### Beware: The codes below are work in progress"
   ]
  },
  {
   "cell_type": "markdown",
   "metadata": {},
   "source": [
    "### Using cvxopt\n",
    "\n"
   ]
  },
  {
   "cell_type": "markdown",
   "metadata": {},
   "source": [
    "Quadratic optimization problems can be solved via the solvers.qp() function. As an example, we can solve the QP problem:\n",
    "\n",
    "\n",
    "![](http://cvxopt.org/_images/math/c9e7897d1d136af4134f0759edf09fe6dfa7a060.png)"
   ]
  },
  {
   "cell_type": "code",
   "execution_count": 41,
   "metadata": {
    "collapsed": true,
    "jupyter": {
     "outputs_hidden": true
    }
   },
   "outputs": [],
   "source": [
    "#!pip install --user cvxopt "
   ]
  },
  {
   "cell_type": "code",
   "execution_count": 42,
   "metadata": {
    "collapsed": false,
    "jupyter": {
     "outputs_hidden": false
    }
   },
   "outputs": [
    {
     "name": "stdout",
     "output_type": "stream",
     "text": [
      "     pcost       dcost       gap    pres   dres\n",
      " 0:  1.8889e+00  7.7778e-01  1e+00  3e-16  2e+00\n",
      " 1:  1.8769e+00  1.8320e+00  4e-02  2e-16  6e-02\n",
      " 2:  1.8750e+00  1.8739e+00  1e-03  1e-16  5e-04\n",
      " 3:  1.8750e+00  1.8750e+00  1e-05  1e-16  5e-06\n",
      " 4:  1.8750e+00  1.8750e+00  1e-07  3e-16  5e-08\n",
      "Optimal solution found.\n"
     ]
    }
   ],
   "source": [
    "from cvxopt import matrix, solvers\n",
    "# quadratic terms in objective\n",
    "Q = 2*matrix([ [2, .5], [.5, 1] ])\n",
    "# linear terms in objective\n",
    "p = matrix([1.0, 1.0])\n",
    "# inequality constraint, left hand side\n",
    "G = matrix([[-1.0,0.0],[0.0,-1.0]])\n",
    "# inequality constraint, right hand side\n",
    "h = matrix([0.0,0.0])\n",
    "# equality constraint, left hand side\n",
    "A = matrix([1.0, 1.0], (1,2))\n",
    "# equality constraint, right hand side\n",
    "b = matrix(1.0)\n",
    "sol=solvers.qp(Q, p, G, h, A, b)"
   ]
  },
  {
   "cell_type": "code",
   "execution_count": 43,
   "metadata": {
    "collapsed": false,
    "jupyter": {
     "outputs_hidden": false
    }
   },
   "outputs": [
    {
     "name": "stdout",
     "output_type": "stream",
     "text": [
      "[ 2.50e-01]\n",
      "[ 7.50e-01]\n",
      "\n"
     ]
    }
   ],
   "source": [
    "print(sol['x'])"
   ]
  },
  {
   "cell_type": "markdown",
   "metadata": {},
   "source": [
    "### Portfolio with minimum variance using cvxopt\n",
    "\n",
    "Consider the following data, respectively, for the returns vector and covariance matrix"
   ]
  },
  {
   "cell_type": "code",
   "execution_count": 50,
   "metadata": {
    "collapsed": false,
    "jupyter": {
     "outputs_hidden": false
    }
   },
   "outputs": [
    {
     "name": "stdout",
     "output_type": "stream",
     "text": [
      "     pcost       dcost       gap    pres   dres\n",
      " 0:  1.4921e-01 -9.0390e-01  1e+00  3e-16  2e+00\n",
      " 1:  1.4551e-01  8.7399e-02  6e-02  1e-16  1e-01\n",
      " 2:  1.0882e-01  9.6449e-02  1e-02  9e-16  7e-17\n",
      " 3:  1.0516e-01  1.0492e-01  2e-04  1e-16  3e-17\n",
      " 4:  1.0500e-01  1.0500e-01  2e-06  2e-16  4e-17\n",
      " 5:  1.0500e-01  1.0500e-01  2e-08  3e-17  4e-17\n",
      "Optimal solution found.\n"
     ]
    }
   ],
   "source": [
    "# quadratic terms in objective\n",
    "Q = 2*matrix(H)\n",
    "# linear terms in objective\n",
    "p = matrix(c)\n",
    "# inequality constraint, left hand side\n",
    "G = matrix([[-1.0,0.0, 0.0],[0.0,-1.0, 0.0],[0.0, 0.0,-1.0 ]])\n",
    "# inequality constraint, right hand side\n",
    "h = matrix([0.0,0.0, 0.0])\n",
    "# equality constraint, left hand side shape = (1,3)\n",
    "A = matrix([1.0, 1.0, 1.0], (1,3))\n",
    "# equality constraint, right hand side\n",
    "b = matrix(1.0)\n",
    "sol=solvers.qp(Q, p, G, h, A, b)"
   ]
  },
  {
   "cell_type": "code",
   "execution_count": 52,
   "metadata": {
    "collapsed": false,
    "jupyter": {
     "outputs_hidden": false
    }
   },
   "outputs": [
    {
     "name": "stdout",
     "output_type": "stream",
     "text": [
      "Optimal Portfolio\n",
      "x =  [ 1.00e+00]\n",
      "[ 1.52e-07]\n",
      "[ 1.17e-07]\n",
      "\n"
     ]
    }
   ],
   "source": [
    "# show solution\n",
    "print('Optimal Portfolio')\n",
    "print('x = ', sol['x'])"
   ]
  },
  {
   "cell_type": "code",
   "execution_count": null,
   "metadata": {
    "collapsed": true,
    "jupyter": {
     "outputs_hidden": true
    }
   },
   "outputs": [],
   "source": []
  }
 ],
 "metadata": {
  "kernelspec": {
   "display_name": "Python 3",
   "language": "python",
   "name": "python3"
  },
  "language_info": {
   "codemirror_mode": {
    "name": "ipython",
    "version": 3
   },
   "file_extension": ".py",
   "mimetype": "text/x-python",
   "name": "python",
   "nbconvert_exporter": "python",
   "pygments_lexer": "ipython3",
   "version": "3.7.4"
  }
 },
 "nbformat": 4,
 "nbformat_minor": 4
}
