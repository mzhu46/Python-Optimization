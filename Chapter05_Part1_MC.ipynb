{
 "cells": [
  {
   "cell_type": "markdown",
   "metadata": {},
   "source": [
    "# Chapter 5\n",
    "# Numerical Integration and Differentiation"
   ]
  },
  {
   "cell_type": "markdown",
   "metadata": {},
   "source": [
    "## 5.6 Numerical Differentiation\n",
    "\n",
    "![](https://upload.wikimedia.org/wikipedia/commons/thumb/1/18/Derivative.svg/460px-Derivative.svg.png)\n",
    "\n",
    "\n",
    "The most natural way to approximate a derivative is to replace it with a finite difference.\n",
    "The definition of a derivative,\n",
    "\n",
    "$$ f'(x)=\\lim _{{h\\to 0}}{f(x+h)-f(x) \\over h}. $$\n",
    "\n",
    "suggests a natural way to do this. One can simply take h to be a small number, knowing\n",
    "that, for h small enough, the error of the approximation will also be small. We will return\n",
    "to the question of how small h should be, but first we address the issue of how large an error\n",
    "is produced using this finite difference approach.\n"
   ]
  },
  {
   "cell_type": "markdown",
   "metadata": {},
   "source": [
    "An error bound for the approximation can be be obtained using a Taylor expansion. We\n",
    "know, for example, that\n",
    "$$f(x + h) = f(x) + f'(x)h + O(h^2);$$\n",
    "\n",
    "where $O(h^2)$ means that other terms in the expression are expressible in terms of second or\n",
    "higher powers of h. If we rearrange this expression we see that\n",
    "\n",
    "$$f'(x) = [f(x + h) - f(x)]/h + O(h)$$\n",
    "\n",
    "(since $O(h^2)/h = O(h)$), so the approximation to the derivative $f'(x)$ has an $O(h)$ error."
   ]
  },
  {
   "cell_type": "markdown",
   "metadata": {},
   "source": [
    "### A more accurate finite difference approximation"
   ]
  },
  {
   "cell_type": "markdown",
   "metadata": {
    "collapsed": true
   },
   "source": [
    "\n",
    "\n",
    "Another two-point formula is to compute the slope of a nearby secant line through the points $(x-h,f(x-h))$ and $(x+h,f(x+h))$. The slope of this line is\n",
    "$$f'(x) =    {\\displaystyle {f(x+h)-f(x-h) \\over 2h } + O(h^2) .} $$\n",
    "This formula is known as the symmetric difference quotient. In this case the first-order errors cancel, so the slope of these secant lines differ from the slope of the tangent line by an amount that is approximately proportional to ${\\displaystyle h^{2}}$. Hence for small values of h this is a more accurate approximation to the tangent line than the one-sided estimation. "
   ]
  },
  {
   "cell_type": "markdown",
   "metadata": {
    "collapsed": true
   },
   "source": [
    "This is called the **centered finite difference approximation** to the derivative of $f$ at $x$. Its\n",
    "error is $O(h^2)$, or one order more accurate than the one-sided finite difference approximation\n",
    "above.\n",
    "\n"
   ]
  },
  {
   "cell_type": "markdown",
   "metadata": {
    "collapsed": true
   },
   "source": [
    "Other 3-point approximations are also possible.\n",
    "\n",
    "### Special cases for finite difference approximations\n",
    "\n",
    "Let's consider a formula that is useful when a derivative is needed at a boundary of a domain. In this case\n",
    "\n",
    "$$f'(x) = {1 \\over 2h} [-3f(x) + 4f(x + h) - f(x + 2h)] + O(h^2)$$\n",
    "(use h > 0 for a lower bound and h < 0 for an upper bound).\n",
    "\n",
    "\n",
    "\n",
    "\n"
   ]
  },
  {
   "cell_type": "markdown",
   "metadata": {},
   "source": [
    "### **Finite difference approximations** for higher order derivatives \n",
    "\n",
    "They can be found using a similar\n",
    "approach. For, example an order $O(h^2)$ centered finite difference approximation to the second\n",
    "derivative may be constructed using the two third-order Taylor expansions\n",
    "\n",
    "$$f''(x) = {f(x + h) - 2f(x) + f(x - h) \\over h^2} + O(h^2)$$"
   ]
  },
  {
   "cell_type": "markdown",
   "metadata": {},
   "source": [
    "To obtain general formulas for second order derivatives with second order accuracy, we will (in general) require a weighted sum\n",
    "composed of 4 points.\n",
    "\n",
    "A formula that is useful when a derivative is needed at a boundary of the\n",
    "domain is\n",
    "\n",
    "\n",
    "$$f''(x) ={1 \\over h^2} [2f(x) - 5f(x + h) + 4f(x + 2h) - f(x + 3h)] + O(h^2)$$\n",
    "\n"
   ]
  },
  {
   "cell_type": "markdown",
   "metadata": {},
   "source": [
    "### Computing Hessian matrices\n",
    "\n",
    "\n",
    "An important use of second derivatives is in computing Hessian matrices. Given some\n",
    "function $f : R^n \\rightarrow R$, the Hessian is the $n \\times n$ matrix of second partial derivatives, the $ij$th element of which is ${ \\partial^2 f(x)\\over  \\partial x_i \\partial x_j}$\n",
    ". We consider only centered, evenly spaced approximations, which\n",
    "can be obtained as a weighted sum of the function values evaluated at the point x and 8\n",
    "points surrounding it obtained by adding or subtracting $h_i u_i$ and/or $h_j u_j$, where the h terms\n",
    "are scalar step increments and the u terms are n-vectors of zeros but with the ith element\n",
    "equal to 1 (the $i$th column of $I_n$)."
   ]
  },
  {
   "cell_type": "markdown",
   "metadata": {},
   "source": [
    "Let superscripts on $f$ denote the function evaluated at one\n",
    "of the 9 points of interest, so $f^{++} = f(x + h_i u_i + h_j u_j)$, $f^{00} = f(x), f^{0-} = f(x - h_j u_j)$, etc.\n",
    "\n",
    "\n",
    "A fruitful approach is to take the mean of the results of two different approximations, which leads to:\n",
    "\n",
    "$$f_{ij} \\approx {1 \\over 4h_i h_j} (f^{++} + f^{--} - f^{-+} -  f^{+-})$$\n",
    "\n",
    "This requires less computation than the other two forms if only a single cross partial is\n",
    "evaluated. Using either of the other two schemes, however, along with the usual centered\n",
    "approximation for the diagonal terms of the Hessian enables one to compute the entire\n",
    "Hessian with second order accuracy in $1 + n + n^2$ function evaluations.\n"
   ]
  },
  {
   "cell_type": "markdown",
   "metadata": {},
   "source": [
    "### The errors in the approximations\n",
    "When a function can be evaluated at any point, the choice of evaluation points must be\n",
    "considered. As with convergence criteria, there is no one rule that always works. If **$h$ is\n",
    "made too small, round-off error can make the results meaningless**. On the other hand, too\n",
    "large an $h$ provides a poor approximation, even if exact arithmetic is used.\n",
    "\n",
    "This gives credence to the rule of\n",
    "thumb that, for one-sided approximations, $h$ should be chosen to be of size $\\epsilon$ relative to\n",
    "$x$. When $x$ is small, however, it is better not to let $h$ get too small. We suggest the rule of\n",
    "thumb of setting \n",
    "\n",
    "$$h = max(x, 1) \\sqrt{ \\epsilon} $$\n",
    "\n",
    "\n",
    "It is evident that the\n",
    "error is minimized at a much higher value of h, at approximately $\\sqrt[3]{\\epsilon}$. A good rule of thumb\n",
    "is to set\n",
    "\n",
    "$$h = max(x, 1) \\sqrt[3]{ \\epsilon} $$\n"
   ]
  },
  {
   "cell_type": "markdown",
   "metadata": {},
   "source": [
    "\n",
    "\n"
   ]
  },
  {
   "cell_type": "code",
   "execution_count": 1,
   "metadata": {},
   "outputs": [],
   "source": [
    "import math\n",
    "import numpy as np\n",
    "from matplotlib import pyplot as plt\n",
    "import sympy\n",
    "sympy.init_printing()"
   ]
  },
  {
   "cell_type": "code",
   "execution_count": 2,
   "metadata": {},
   "outputs": [
    {
     "name": "stdout",
     "output_type": "stream",
     "text": [
      "d1: [-1.08768136 -2.76493348 -4.55236612 -3.08655962 -3.71978493 -4.50352056\n",
      " -5.08347724 -6.20012289 -8.02365956 -7.94324246 -7.26839186 -6.61658741\n",
      " -5.86671817 -5.11673161 -4.36673086 -3.61670977 -2.86659074 -2.11592106\n",
      " -1.36214557 -0.59060781  0.29058936]\n",
      "d2: [ -1.73141555  -1.59838372  -2.323369    -3.36739664  -3.92261842\n",
      "  -4.72779964  -5.45847406  -6.20910324  -7.09356021  -7.55145443\n",
      "  -8.32323908  -9.3352109  -10.04225716 -10.62904948  -9.34034617\n",
      "  -7.8438797   -6.34385691  -4.84385608  -3.34383505  -1.84317011\n",
      "  -0.32216846]\n"
     ]
    },
    {
     "data": {
      "image/png": "[encoded data removed]",
      "text/latex": [
       "$$\\left [ -15, \\quad 0, \\quad -16, \\quad 2\\right ]$$"
      ],
      "text/plain": [
       "[-15, 0, -16, 2]"
      ]
     },
     "execution_count": 2,
     "metadata": {},
     "output_type": "execute_result"
    },
    {
     "data": {
      "image/png": "[encoded data removed]",
      "text/plain": [
       "<Figure size 432x288 with 1 Axes>"
      ]
     },
     "metadata": {
      "needs_background": "light"
     },
     "output_type": "display_data"
    },
    {
     "data": {
      "image/png": "[encoded data removed]",
      "text/plain": [
       "<Figure size 432x288 with 1 Axes>"
      ]
     },
     "metadata": {
      "needs_background": "light"
     },
     "output_type": "display_data"
    }
   ],
   "source": [
    "#Errors in Finite Difference Derivatives for the exp(x) function\n",
    "\n",
    "#Specify the point where we are computing the derivative\n",
    "x = 1\n",
    "\n",
    "#Generate a grid of (small) values for the increment h\n",
    "n = 21\n",
    "\n",
    "#Consider a uniform grid\n",
    "ctemp = np.linspace(0, 15, n)\n",
    "ctemp = -ctemp\n",
    "\n",
    "#Sort the values\n",
    "c = sorted(ctemp)\n",
    "\n",
    "#Create the powers of 10\n",
    "h = np.power(10, c)\n",
    "\n",
    "#One-sided finite difference derivative\n",
    "u1 = x+h\n",
    "l1 = x\n",
    "num1 = np.exp(u1)-np.exp(l1)\n",
    "den1 = (u1-l1)\n",
    "\n",
    "d1 = np.divide(num1, den1)\n",
    "d1 = d1-np.exp(x) #Subtract the true derivative to obtain the error\n",
    "d1 = np.absolute(d1)\n",
    "d1 = np.log10(d1)\n",
    "\n",
    "#One-sided finite difference derivative errors\n",
    "print(\"d1:\",d1)\n",
    "\n",
    "epstemp = np.finfo(float).eps\n",
    "\n",
    "e1 = epstemp**(0.5)\n",
    "e1 = np.log10(e1)\n",
    "\n",
    "#Two-sided finite difference derivative\n",
    "u2 = x+h\n",
    "l2 = x-h\n",
    "num2=np.exp(u2)-np.exp(l2)\n",
    "den2=(u2-l2)\n",
    "\n",
    "d2 = np.divide(num2, den2)\n",
    "d2 = d2-np.exp(x) #Subtract the true derivative to obtain the error\n",
    "d2 = np.absolute(d2)\n",
    "d2 = np.log10(d2)\n",
    "\n",
    "print(\"d2:\",d2)\n",
    "\n",
    "e2 = epstemp**(1/3)\n",
    "e2 = np.log10(e2)\n",
    "\n",
    "#Plot the log10 Approximation Errors\n",
    "plt.figure()\n",
    "plt.plot(c, d1, label='One-Sided')\n",
    "plt.xlabel('log10(h)')\n",
    "plt.grid()\n",
    "plt.axis([-15, 0, -16, 2])\n",
    "\n",
    "plt.figure()\n",
    "plt.plot(c, d2, label='Two-Sided')\n",
    "plt.xlabel('log10(h)')\n",
    "plt.grid()\n",
    "plt.axis([-15, 0, -16, 2])"
   ]
  },
  {
   "cell_type": "markdown",
   "metadata": {},
   "source": [
    "We provide below a function that computes two-sided finite difference approximations for\n",
    "the Jacobian of an arbitrary function. For a real-valued function, $f :R^n \\rightarrow R$, the output\n",
    "is an $n \\times 1$ vector (For a vector-valued function, $f :R^n \\rightarrow R^m$, the output\n",
    "is an $n \\times m$ matrix):"
   ]
  },
  {
   "cell_type": "code",
   "execution_count": 3,
   "metadata": {
    "ExecuteTime": {
     "end_time": "2018-01-03T19:34:38.740058Z",
     "start_time": "2018-01-03T19:34:38.637786Z"
    }
   },
   "outputs": [],
   "source": [
    "#Compute the Jacobian with a finite difference method\n",
    "def fdjac(func, x, *args, **kwargs):\n",
    "\n",
    "    # if type(func(x, *args, **kwargs)) is tuple:\n",
    "    #     F = lambda x: func(x, *args, **kwargs)[0]\n",
    "    # else:\n",
    "    #     F = lambda x: func(x, *args, **kwargs)\n",
    "    F = lambda z: func(z, *args, **kwargs)\n",
    "\n",
    "    x = x.flatten()\n",
    "    dx = x.size\n",
    "    f = F(x)\n",
    "    df = f.size\n",
    "    x = x.astype(float)\n",
    "\n",
    "    ''' Compute Jacobian'''\n",
    "    eps = np.spacing(1) \n",
    "\n",
    "    h = eps** (1/3) * np.maximum(abs(x), 1)\n",
    "    xh0 = x - h\n",
    "    xh1 = x + h\n",
    "    h = xh1 - xh0\n",
    "    fjac = np.zeros((dx, df))\n",
    "\n",
    "    for j in range(dx):\n",
    "        xx = x.copy()\n",
    "        xx[j] = xh1[j]\n",
    "        f1 = F(xx)\n",
    "\n",
    "        xx[j] = xh0[j]\n",
    "        f0 = F(xx)\n",
    "\n",
    "        fjac[j] = np.squeeze((f1 - f0) / h[j])  # fixme doing this to deal with broadcasting\n",
    "\n",
    "    return fjac.T"
   ]
  },
  {
   "cell_type": "code",
   "execution_count": 4,
   "metadata": {
    "ExecuteTime": {
     "end_time": "2018-01-03T19:34:39.260320Z",
     "start_time": "2018-01-03T19:34:39.164565Z"
    }
   },
   "outputs": [
    {
     "data": {
      "text/plain": [
       "array([[-3.88977465, -0.5194381 ],\n",
       "       [-0.5194381 , -4.08977465]])"
      ]
     },
     "execution_count": 4,
     "metadata": {},
     "output_type": "execute_result"
    }
   ],
   "source": [
    "#Example with the Cournot model\n",
    "\n",
    "def cournot(q):\n",
    "    c = np.array([0.6, 0.8])\n",
    "    eta = 1.6\n",
    "    e = -1 / eta\n",
    "    fval = np.sum(q)**e + e * np.sum(q)**(e-1)*(q) - np.diag(c).dot(q)\n",
    "    return fval\n",
    "\n",
    "f = cournot\n",
    "x = np.array([0.2, 0.2])\n",
    "#Using the finite difference function to approximate the Jacobian\n",
    "fjac = fdjac(cournot,np.array([0.2, 0.2]) )\n",
    "fjac"
   ]
  },
  {
   "cell_type": "code",
   "execution_count": null,
   "metadata": {},
   "outputs": [],
   "source": []
  }
 ],
 "metadata": {
  "kernelspec": {
   "display_name": "Python 3",
   "language": "python",
   "name": "python3"
  },
  "language_info": {
   "codemirror_mode": {
    "name": "ipython",
    "version": 3
   },
   "file_extension": ".py",
   "mimetype": "text/x-python",
   "name": "python",
   "nbconvert_exporter": "python",
   "pygments_lexer": "ipython3",
   "version": "3.6.8"
  }
 },
 "nbformat": 4,
 "nbformat_minor": 1
}
